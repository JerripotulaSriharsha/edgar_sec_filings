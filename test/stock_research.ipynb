{
 "cells": [
  {
   "cell_type": "code",
   "execution_count": 14,
   "id": "b0c9b694",
   "metadata": {},
   "outputs": [
    {
     "name": "stderr",
     "output_type": "stream",
     "text": [
      "C:\\Users\\sriha\\AppData\\Local\\Temp\\ipykernel_53060\\4228013507.py:4: FutureWarning: YF.download() has changed argument auto_adjust default to True\n",
      "  df_hour = yf.download(\"TSLA\", start=\"2024-08-12\", end=\"2024-08-15\", interval=\"1h\")\n",
      "[*********************100%***********************]  1 of 1 completed\n"
     ]
    }
   ],
   "source": [
    "import yfinance as yf\n",
    "\n",
    "# Hourly — will be empty because Yahoo doesn't retain 1h that far back\n",
    "df_hour = yf.download(\"TSLA\", start=\"2024-08-12\", end=\"2024-08-15\", interval=\"1h\")\n"
   ]
  },
  {
   "cell_type": "code",
   "execution_count": 27,
   "id": "4face554",
   "metadata": {},
   "outputs": [
    {
     "ename": "RuntimeError",
     "evalue": "API returned error: {\n    \"Information\": \"We have detected your API key as YOUR_KEY and our standard API rate limit is 25 requests per day. Please subscribe to any of the premium plans at https://www.alphavantage.co/prem ...",
     "output_type": "error",
     "traceback": [
      "\u001b[31m---------------------------------------------------------------------------\u001b[39m",
      "\u001b[31mRuntimeError\u001b[39m                              Traceback (most recent call last)",
      "\u001b[36mCell\u001b[39m\u001b[36m \u001b[39m\u001b[32mIn[27]\u001b[39m\u001b[32m, line 61\u001b[39m\n\u001b[32m     57\u001b[39m     plt.show()\n\u001b[32m     59\u001b[39m     \u001b[38;5;28;01mreturn\u001b[39;00m df\n\u001b[32m---> \u001b[39m\u001b[32m61\u001b[39m df_plug = \u001b[43mget_intraday_plot\u001b[49m\u001b[43m(\u001b[49m\u001b[33;43m\"\u001b[39;49m\u001b[33;43mPLUG\u001b[39;49m\u001b[33;43m\"\u001b[39;49m\u001b[43m,\u001b[49m\u001b[43m \u001b[49m\u001b[33;43m\"\u001b[39;49m\u001b[33;43m2021-03-16\u001b[39;49m\u001b[33;43m\"\u001b[39;49m\u001b[43m,\u001b[49m\u001b[43m \u001b[49m\u001b[33;43m\"\u001b[39;49m\u001b[33;43m2021-03-17\u001b[39;49m\u001b[33;43m\"\u001b[39;49m\u001b[43m,\u001b[49m\u001b[43m \u001b[49m\u001b[43minterval\u001b[49m\u001b[43m=\u001b[49m\u001b[33;43m\"\u001b[39;49m\u001b[33;43m30min\u001b[39;49m\u001b[33;43m\"\u001b[39;49m\u001b[43m)\u001b[49m\n\u001b[32m     62\u001b[39m df_plug\n\u001b[32m     63\u001b[39m \u001b[38;5;66;03m# PG&E Corporation (PCG) — 2019-01-14, 30-min bars\u001b[39;00m\n\u001b[32m     64\u001b[39m \u001b[38;5;66;03m# PG&E Corporation (PCG) — 2019-01-14, 30-min bars\u001b[39;00m\n",
      "\u001b[36mCell\u001b[39m\u001b[36m \u001b[39m\u001b[32mIn[27]\u001b[39m\u001b[32m, line 36\u001b[39m, in \u001b[36mget_intraday_plot\u001b[39m\u001b[34m(symbol, start_date, end_date, interval)\u001b[39m\n\u001b[32m     34\u001b[39m txt = r.text\n\u001b[32m     35\u001b[39m \u001b[38;5;28;01mif\u001b[39;00m txt.lstrip().startswith(\u001b[33m\"\u001b[39m\u001b[33m{\u001b[39m\u001b[33m\"\u001b[39m):\n\u001b[32m---> \u001b[39m\u001b[32m36\u001b[39m     \u001b[38;5;28;01mraise\u001b[39;00m \u001b[38;5;167;01mRuntimeError\u001b[39;00m(\u001b[33mf\u001b[39m\u001b[33m\"\u001b[39m\u001b[33mAPI returned error: \u001b[39m\u001b[38;5;132;01m{\u001b[39;00mtxt[:\u001b[32m200\u001b[39m]\u001b[38;5;132;01m}\u001b[39;00m\u001b[33m ...\u001b[39m\u001b[33m\"\u001b[39m)\n\u001b[32m     38\u001b[39m df = pd.read_csv(io.StringIO(txt), parse_dates=[\u001b[33m\"\u001b[39m\u001b[33mtimestamp\u001b[39m\u001b[33m\"\u001b[39m]).sort_values(\u001b[33m\"\u001b[39m\u001b[33mtimestamp\u001b[39m\u001b[33m\"\u001b[39m)\n\u001b[32m     40\u001b[39m \u001b[38;5;66;03m# filter to the window\u001b[39;00m\n",
      "\u001b[31mRuntimeError\u001b[39m: API returned error: {\n    \"Information\": \"We have detected your API key as YOUR_KEY and our standard API rate limit is 25 requests per day. Please subscribe to any of the premium plans at https://www.alphavantage.co/prem ..."
     ]
    }
   ],
   "source": [
    "import io\n",
    "import requests\n",
    "import pandas as pd\n",
    "import matplotlib.pyplot as plt\n",
    "\n",
    "URL = \"https://www.alphavantage.co/query\"\n",
    "API_KEY = \"YOUR_KEY\"   # <-- put your Alpha Vantage key here\n",
    "\n",
    "def get_intraday_plot(symbol: str, start_date: str, end_date: str, interval: str = \"30min\"):\n",
    "    \"\"\"\n",
    "    Fetch intraday OHLCV data for a stock between start_date and end_date\n",
    "    and plot closing prices.\n",
    "\n",
    "    Args:\n",
    "        symbol (str): Stock ticker, e.g. \"TSLA\"\n",
    "        start_date (str): Start date, format YYYY-MM-DD\n",
    "        end_date (str): End date, format YYYY-MM-DD\n",
    "        interval (str): Interval string, e.g. \"30min\", \"60min\", \"15min\"\n",
    "    \"\"\"\n",
    "    # use historical slice by month\n",
    "    month = pd.to_datetime(start_date).strftime(\"%Y-%m\")\n",
    "\n",
    "    params = {\n",
    "        \"function\": \"TIME_SERIES_INTRADAY\",\n",
    "        \"symbol\": symbol,\n",
    "        \"interval\": interval,\n",
    "        \"month\": month,\n",
    "        \"outputsize\": \"full\",\n",
    "        \"apikey\": API_KEY,\n",
    "        \"datatype\": \"csv\",\n",
    "    }\n",
    "\n",
    "    r = requests.get(URL, params=params, timeout=60)\n",
    "    txt = r.text\n",
    "    if txt.lstrip().startswith(\"{\"):\n",
    "        raise RuntimeError(f\"API returned error: {txt[:200]} ...\")\n",
    "\n",
    "    df = pd.read_csv(io.StringIO(txt), parse_dates=[\"timestamp\"]).sort_values(\"timestamp\")\n",
    "\n",
    "    # filter to the window\n",
    "    mask = (df[\"timestamp\"].dt.date >= pd.to_datetime(start_date).date()) & \\\n",
    "           (df[\"timestamp\"].dt.date <= pd.to_datetime(end_date).date())\n",
    "    df = df.loc[mask].reset_index(drop=True)\n",
    "\n",
    "    if df.empty:\n",
    "        print(\"No data found for this range\")\n",
    "        return df\n",
    "\n",
    "    # plot closing prices\n",
    "    plt.figure(figsize=(12,6))\n",
    "    plt.plot(df[\"timestamp\"], df[\"close\"], marker=\"o\", linestyle=\"-\")\n",
    "    plt.title(f\"{symbol} {interval} Close Prices ({start_date} → {end_date})\")\n",
    "    plt.xlabel(\"Time\")\n",
    "    plt.ylabel(\"Close Price (USD)\")\n",
    "    plt.grid(True, linestyle=\"--\", alpha=0.5)\n",
    "    plt.tight_layout()\n",
    "    plt.show()\n",
    "\n",
    "    return df\n",
    "\n",
    "df_plug = get_intraday_plot(\"PLUG\", \"2021-03-16\", \"2021-03-17\", interval=\"30min\")\n",
    "df_plug\n",
    "# PG&E Corporation (PCG) — 2019-01-14, 30-min bars\n",
    "# PG&E Corporation (PCG) — 2019-01-14, 30-min bars\n",
    "df_sivb"
   ]
  },
  {
   "cell_type": "code",
   "execution_count": 28,
   "id": "d58556e3",
   "metadata": {},
   "outputs": [
    {
     "name": "stdout",
     "output_type": "stream",
     "text": [
      "2018-10-04 — https://www.sec.gov/Archives/edgar/data/40545/000004054518000074/ge8-k100418.htm\n"
     ]
    },
    {
     "data": {
      "text/html": [
       "<ul><li>2021-03-16 — <a href=\"https://www.sec.gov/Archives/edgar/data/1093691/000110465921037228/tm219753d2_8k.htm\" target=\"_blank\">https://www.sec.gov/Archives/edgar/data/1093691/000110465921037228/tm219753d2_8k.htm</a></li><li>2021-03-16 — <a href=\"https://www.sec.gov/Archives/edgar/data/1093691/000110465921037184/tm219753d1_8k.htm\" target=\"_blank\">https://www.sec.gov/Archives/edgar/data/1093691/000110465921037184/tm219753d1_8k.htm</a></li></ul>"
      ],
      "text/plain": [
       "<IPython.core.display.HTML object>"
      ]
     },
     "metadata": {},
     "output_type": "display_data"
    }
   ],
   "source": [
    "# pip install edgartools\n",
    "from edgar import Company, set_identity\n",
    "\n",
    "set_identity(\"Sri <sri.jerripotula@gmail.com>\")  # SEC-friendly identity\n",
    "\n",
    "def get_8k_links(ticker: str, start_date: str, end_date: str, include_amendments: bool = False):\n",
    "    \"\"\"\n",
    "    Return [(filing_date, filing_url)] for 8-Ks in the date range.\n",
    "    Dates are 'YYYY-MM-DD'.\n",
    "    \"\"\"\n",
    "    co = Company(ticker)\n",
    "    filings = co.get_filings(form=\"8-K\", amendments=include_amendments)\n",
    "    filings = filings.filter(filing_date=f\"{start_date}:{end_date}\")\n",
    "    # sort oldest -> newest\n",
    "    filings = sorted(list(filings), key=lambda f: f.filing_date)\n",
    "    return [(f.filing_date, f.filing_url) for f in filings]\n",
    "\n",
    "# ---- Your GE example (2018-10-01 to 2018-10-04) ----\n",
    "links = get_8k_links(\"GE\", \"2018-10-01\", \"2018-10-04\")\n",
    "for d, url in links:\n",
    "    print(f\"{d} — {url}\")\n",
    "from IPython.display import HTML, display\n",
    "\n",
    "def show_8k_links(ticker, start_date, end_date, include_amendments=False):\n",
    "    data = get_8k_links(ticker, start_date, end_date, include_amendments)\n",
    "    if not data:\n",
    "        display(HTML(\"<p>No 8-Ks found.</p>\"))\n",
    "        return\n",
    "    html = \"<ul>\" + \"\".join(\n",
    "        f'<li>{d} — <a href=\"{u}\" target=\"_blank\">{u}</a></li>' for d, u in data\n",
    "    ) + \"</ul>\"\n",
    "    display(HTML(html))\n",
    "\n",
    "# Example:\n",
    "show_8k_links(\"PLUG\", \"2021-03-16\", \"2021-03-17\")\n"
   ]
  },
  {
   "cell_type": "code",
   "execution_count": null,
   "id": "c9db7f5a",
   "metadata": {},
   "outputs": [],
   "source": []
  }
 ],
 "metadata": {
  "kernelspec": {
   "display_name": "secc-filings",
   "language": "python",
   "name": "python3"
  },
  "language_info": {
   "codemirror_mode": {
    "name": "ipython",
    "version": 3
   },
   "file_extension": ".py",
   "mimetype": "text/x-python",
   "name": "python",
   "nbconvert_exporter": "python",
   "pygments_lexer": "ipython3",
   "version": "3.11.13"
  }
 },
 "nbformat": 4,
 "nbformat_minor": 5
}
